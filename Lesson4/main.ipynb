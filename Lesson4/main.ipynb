{
 "cells": [
  {
   "cell_type": "code",
   "execution_count": 40,
   "metadata": {},
   "outputs": [],
   "source": [
    "import torch\n",
    "import torch.nn as nn\n",
    "import torch.optim as optim\n",
    "import numpy as np\n",
    "from torch.utils.data import DataLoader, Dataset\n",
    "\n",
    "text = \"\"\"\n",
    "Бджілка-трудівниця\n",
    "Цілий день в турботах\n",
    "Мед смачний зібрати\n",
    "Ось її робота.\n",
    "Над квітучим лугом\n",
    "Чутно «Жу-жу-жу»\n",
    "Бджілкам-друзям мед зібрати я допоможу!\n",
    "\"\"\"\n",
    "text = text.lower()\n",
    "\n",
    "chars = sorted(list(set(text)))\n",
    "char_to_idx = {char: idx for idx, char in enumerate(chars)}\n",
    "idx_to_char = {idx: char for idx, char in enumerate(chars)}\n",
    "\n",
    "vocab_size = len(chars)\n",
    "\n",
    "\n",
    "encoded_text = [char_to_idx[char] for char in text]\n",
    "\n",
    "sequence_length = 30\n",
    "step = 1\n",
    "input_sequences = []\n",
    "target_sequences = []\n",
    "\n",
    "for i in range(0, len(encoded_text) - sequence_length, step):\n",
    "    input_sequences.append(encoded_text[i:i + sequence_length])\n",
    "    target_sequences.append(encoded_text[i + sequence_length])\n",
    "\n",
    "input_sequences = torch.tensor(input_sequences, dtype=torch.long)\n",
    "target_sequences = torch.tensor(target_sequences, dtype=torch.long)\n"
   ]
  },
  {
   "cell_type": "code",
   "execution_count": 42,
   "metadata": {},
   "outputs": [],
   "source": [
    "class TextGenerationRNN(nn.Module):\n",
    "    def __init__(self, vocab_size, embed_size, hidden_size, num_layers, dropout_rate):\n",
    "        super(TextGenerationRNN, self).__init__()\n",
    "        self.embed = nn.Embedding(vocab_size, embed_size)\n",
    "        self.lstm = nn.LSTM(embed_size, hidden_size, num_layers, dropout=dropout_rate, batch_first=True)\n",
    "        self.fc = nn.Linear(hidden_size, vocab_size)\n",
    "    \n",
    "    def forward(self, x, hidden=None):\n",
    "        x = self.embed(x)\n",
    "        out, hidden = self.lstm(x, hidden)\n",
    "        out = self.fc(out[:, -1, :])\n",
    "        return out, hidden\n",
    "\n",
    "embed_size = 128\n",
    "hidden_size = 256\n",
    "num_layers = 2\n",
    "dropout_rate = 0.2\n",
    "\n",
    "model = TextGenerationRNN(vocab_size, embed_size, hidden_size, num_layers, dropout_rate)\n"
   ]
  },
  {
   "cell_type": "code",
   "execution_count": 55,
   "metadata": {},
   "outputs": [],
   "source": [
    "criterion = nn.CrossEntropyLoss()\n",
    "optimizer = optim.Adam(model.parameters(), lr=0.001, weight_decay=0.001)\n",
    "batch_size = 64\n",
    "\n",
    "# Датасет\n",
    "class TextDataset(Dataset):\n",
    "    def __init__(self, inputs, targets):\n",
    "        self.inputs = inputs\n",
    "        self.targets = targets\n",
    "    \n",
    "    def __len__(self):\n",
    "        return len(self.inputs)\n",
    "    \n",
    "    def __getitem__(self, idx):\n",
    "        return self.inputs[idx], self.targets[idx]\n",
    "\n",
    "dataset = TextDataset(input_sequences, target_sequences)\n",
    "dataloader = DataLoader(dataset, batch_size=batch_size, shuffle=True)\n"
   ]
  },
  {
   "cell_type": "code",
   "execution_count": 57,
   "metadata": {},
   "outputs": [
    {
     "name": "stdout",
     "output_type": "stream",
     "text": [
      "Epoch 1/50, Loss: 0.0267\n",
      "Epoch 2/50, Loss: 0.0232\n",
      "Epoch 3/50, Loss: 0.0211\n",
      "Epoch 4/50, Loss: 0.0199\n",
      "Epoch 5/50, Loss: 0.0174\n",
      "Epoch 6/50, Loss: 0.0171\n",
      "Epoch 7/50, Loss: 0.0157\n",
      "Epoch 8/50, Loss: 0.0149\n",
      "Epoch 9/50, Loss: 0.0137\n",
      "Epoch 10/50, Loss: 0.0130\n",
      "Epoch 11/50, Loss: 0.0131\n",
      "Epoch 12/50, Loss: 0.0124\n",
      "Epoch 13/50, Loss: 0.0122\n",
      "Epoch 14/50, Loss: 0.0117\n",
      "Epoch 15/50, Loss: 0.0120\n",
      "Epoch 16/50, Loss: 0.0121\n",
      "Epoch 17/50, Loss: 0.0115\n",
      "Epoch 18/50, Loss: 0.0115\n",
      "Epoch 19/50, Loss: 0.0116\n",
      "Epoch 20/50, Loss: 0.0116\n",
      "Epoch 21/50, Loss: 0.0125\n",
      "Epoch 22/50, Loss: 0.0116\n",
      "Epoch 23/50, Loss: 0.0122\n",
      "Epoch 24/50, Loss: 0.0117\n",
      "Epoch 25/50, Loss: 0.0119\n",
      "Epoch 26/50, Loss: 0.0123\n",
      "Epoch 27/50, Loss: 0.0121\n",
      "Epoch 28/50, Loss: 0.0119\n",
      "Epoch 29/50, Loss: 0.0118\n",
      "Epoch 30/50, Loss: 0.0123\n",
      "Epoch 31/50, Loss: 0.0123\n",
      "Epoch 32/50, Loss: 0.0124\n",
      "Epoch 33/50, Loss: 0.0122\n",
      "Epoch 34/50, Loss: 0.0122\n",
      "Epoch 35/50, Loss: 0.0122\n",
      "Epoch 36/50, Loss: 0.0124\n",
      "Epoch 37/50, Loss: 0.0124\n",
      "Epoch 38/50, Loss: 0.0131\n",
      "Epoch 39/50, Loss: 0.0123\n",
      "Epoch 40/50, Loss: 0.0126\n",
      "Epoch 41/50, Loss: 0.0125\n",
      "Epoch 42/50, Loss: 0.0124\n",
      "Epoch 43/50, Loss: 0.0129\n",
      "Epoch 44/50, Loss: 0.0127\n",
      "Epoch 45/50, Loss: 0.0126\n",
      "Epoch 46/50, Loss: 0.0124\n",
      "Epoch 47/50, Loss: 0.0126\n",
      "Epoch 48/50, Loss: 0.0123\n",
      "Epoch 49/50, Loss: 0.0128\n",
      "Epoch 50/50, Loss: 0.0126\n"
     ]
    }
   ],
   "source": [
    "epochs = 50\n",
    "train_losses = []\n",
    "\n",
    "for epoch in range(epochs):\n",
    "    model.train()\n",
    "    running_loss = 0.0\n",
    "    \n",
    "    for inputs, targets in dataloader:\n",
    "        optimizer.zero_grad()\n",
    "        outputs, _ = model(inputs)\n",
    "        loss = criterion(outputs, targets)\n",
    "        loss.backward()\n",
    "        optimizer.step()\n",
    "        running_loss += loss.item()\n",
    "    \n",
    "    train_losses.append(running_loss / len(dataloader))\n",
    "    print(f\"Epoch {epoch + 1}/{epochs}, Loss: {train_losses[-1]:.4f}\")\n",
    " "
   ]
  },
  {
   "cell_type": "code",
   "execution_count": 63,
   "metadata": {},
   "outputs": [
    {
     "name": "stdout",
     "output_type": "stream",
     "text": [
      "бджілка гзу иоатаи д зібрати\n",
      "ось її робота.\n",
      "над квітучим луугм\n",
      "лутно «жу-жу-жу-жу-жу-\n",
      "у»»»йжклкі-ру-яуз\n",
      "мед лібрати я допоможу!\n",
      "бжд «ібрати я допоможу!\n",
      "\n",
      "ед слач-дир зібрати м допоможу!\n",
      "нел кібрати я допоможу!\n"
     ]
    }
   ],
   "source": [
    "def generate_text(model, start_text, length, temperature=1.0):\n",
    "    model.eval()\n",
    "    input_seq = [char_to_idx[char] for char in start_text]\n",
    "    input_seq = torch.tensor(input_seq, dtype=torch.long).unsqueeze(0)\n",
    "    hidden = None\n",
    "    generated_text = start_text\n",
    "    \n",
    "    for _ in range(length):\n",
    "        with torch.no_grad():\n",
    "            output, hidden = model(input_seq, hidden)\n",
    "            output = output / temperature\n",
    "            probs = torch.softmax(output, dim=-1).squeeze()\n",
    "            next_char_idx = torch.multinomial(probs, 1).item()\n",
    "            next_char = idx_to_char[next_char_idx]\n",
    "            generated_text += next_char\n",
    "            input_seq = torch.tensor([[next_char_idx]], dtype=torch.long)\n",
    "    \n",
    "    return generated_text\n",
    "\n",
    "start_text = \"бджілка \"\n",
    "print(generate_text(model, start_text, 200))\n"
   ]
  },
  {
   "cell_type": "code",
   "execution_count": 64,
   "metadata": {},
   "outputs": [
    {
     "data": {
      "image/png": "[encoded data removed]",
      "text/plain": [
       "<Figure size 640x480 with 1 Axes>"
      ]
     },
     "metadata": {},
     "output_type": "display_data"
    }
   ],
   "source": [
    "import matplotlib.pyplot as plt\n",
    "\n",
    "plt.plot(train_losses, label='Train Loss')\n",
    "plt.xlabel('Epochs')\n",
    "plt.ylabel('Loss')\n",
    "plt.legend()\n",
    "plt.title('Training Loss')\n",
    "plt.show()\n"
   ]
  }
 ],
 "metadata": {
  "kernelspec": {
   "display_name": "genai",
   "language": "python",
   "name": "python3"
  },
  "language_info": {
   "codemirror_mode": {
    "name": "ipython",
    "version": 3
   },
   "file_extension": ".py",
   "mimetype": "text/x-python",
   "name": "python",
   "nbconvert_exporter": "python",
   "pygments_lexer": "ipython3",
   "version": "3.11.9"
  }
 },
 "nbformat": 4,
 "nbformat_minor": 2
}
